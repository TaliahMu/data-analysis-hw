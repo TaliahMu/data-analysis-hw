{
 "cells": [
  {
   "cell_type": "markdown",
   "metadata": {},
   "source": [
    "# Data Analysis Challenges"
   ]
  },
  {
   "cell_type": "markdown",
   "metadata": {},
   "source": [
    "Here you will find 3 challenges for you to practice your skills in Python, NumPy and Matplotlib. Each challenge can be completed without completing the others. However, each challenge consists of sub-challenges and these are expected to be completed in sequence (e.g. Challenge 1.1 must be done beofre Challenge 1.2, but Challenge 3 can be completed without doing Challenge 1 or 2). Some subchallenges are marked as *Bonus*. These are more difficult challenge for you to dive deeper really sharpen your skills!"
   ]
  },
  {
   "cell_type": "markdown",
   "metadata": {},
   "source": [
    "Before you start, be sure to:\n",
    "\n",
    "1. Import NumPy package\n",
    "2. Import Matplotlib package\n",
    "3. Configure Matplotlib so plots will show up inside the notebook"
   ]
  },
  {
   "cell_type": "code",
   "execution_count": 1,
   "metadata": {},
   "outputs": [],
   "source": [
    "import numpy as np\n",
    "import matplotlib.pyplot as plt\n",
    "%matplotlib inline"
   ]
  },
  {
   "cell_type": "markdown",
   "metadata": {},
   "source": [
    "# Challenge 1: Loading and plotting data from a text file"
   ]
  },
  {
   "cell_type": "markdown",
   "metadata": {},
   "source": [
    "Inside the data folder, you should find a file called `signals.dat`. Take a look at its content. The file has a few lines of **comment** that aids your understanding of the file content."
   ]
  },
  {
   "cell_type": "markdown",
   "metadata": {},
   "source": [
    "## Challenge 1.1"
   ]
  },
  {
   "cell_type": "markdown",
   "metadata": {},
   "source": [
    "Using NumPy's `loadtxt` function, read in the content of the text file. Be sure to read through the `loadtxt`'s docstring to get a good understanding of how it works.\n",
    "\n",
    "**Hints**\n",
    "1. You can always get docstring with `?` at the end: i.e. `np.loadtxt?`\n",
    "2. Pay special attention to what character is used in the file to separate individual data values\n",
    "3. The file contains couple lines of comments that must be skipped when loading. Check if `loadtxt` allows you to ignore certain lines. Also, read the content of the comment carefully!"
   ]
  },
  {
   "cell_type": "code",
   "execution_count": null,
   "metadata": {},
   "outputs": [],
   "source": []
  },
  {
   "cell_type": "markdown",
   "metadata": {},
   "source": [
    "## Challenge 1.2"
   ]
  },
  {
   "cell_type": "markdown",
   "metadata": {},
   "source": [
    "Once loaded, you should get 4 signals with 100 data points. The fisrt signal is the value of time over which all other three signals are defined.\n",
    "\n",
    "Plot the three signals on a same plot. Be sure to **label** each signal with an appropriate name (Hint: legend). Also be sure to label each axis, and give a title.\n",
    "\n",
    "**Hint**: Be sure to read through the content of the data file to get a good understanding of the data, and reflect them in your plot."
   ]
  },
  {
   "cell_type": "code",
   "execution_count": null,
   "metadata": {},
   "outputs": [],
   "source": []
  },
  {
   "cell_type": "markdown",
   "metadata": {},
   "source": [
    "## Challenge 1.3"
   ]
  },
  {
   "cell_type": "markdown",
   "metadata": {},
   "source": [
    "**Save your figure** into a file called `signals.png`. To find out what function in Matplotlib you will need to use, Google online. Be sure to use good keywords in your search. Also, be sure to save your figure at high enough resolution (i.e. at least 200 dpi). \n",
    "\n",
    "**Hint**: `matplotlib.pyplot` is equivalent to the `plt`. Remember that you do: `import matplotlib.pyplot as plt`?"
   ]
  },
  {
   "cell_type": "code",
   "execution_count": null,
   "metadata": {},
   "outputs": [],
   "source": []
  },
  {
   "cell_type": "markdown",
   "metadata": {},
   "source": [
    "## Challenge 1.4"
   ]
  },
  {
   "cell_type": "markdown",
   "metadata": {},
   "source": [
    "For each signal, compute the means and standard deviations. Store your results in some variables for use in the next sub-challenge.\n",
    "\n",
    "**Hint**: Make sure you use `axis` keyword arugment correctly."
   ]
  },
  {
   "cell_type": "code",
   "execution_count": null,
   "metadata": {},
   "outputs": [],
   "source": []
  },
  {
   "cell_type": "markdown",
   "metadata": {},
   "source": [
    "## Challenge 1.5"
   ]
  },
  {
   "cell_type": "markdown",
   "metadata": {},
   "source": [
    "**Plot the means and standard deviations as bar plots with error bars**: height of the bar is the mean and error bar is the +/- 1 standard deviation.\n",
    "\n",
    "Bar plots can be created with `plt.bar` - study it's documentation carefully to see how to use it and how to plot error bars.\n",
    "\n",
    "Be sure to label both x-axis and y-axis."
   ]
  },
  {
   "cell_type": "code",
   "execution_count": null,
   "metadata": {},
   "outputs": [],
   "source": []
  },
  {
   "cell_type": "markdown",
   "metadata": {},
   "source": [
    "## Challenge 1.6"
   ]
  },
  {
   "cell_type": "markdown",
   "metadata": {},
   "source": [
    "Repeat 1.4 and 1.5 but this time showing the mean and standard deivation bar plots for the **first half in time of the signals** as one plot and for the **second half in time of the signals** as another plot.\n",
    "\n",
    "**Hint**:\n",
    "1. Split your data into two halfs based on the time\n",
    "2. Plot two sets of bar plots into separate `subplot`s.\n",
    "3. Make sure you put appropriate titles."
   ]
  },
  {
   "cell_type": "code",
   "execution_count": null,
   "metadata": {},
   "outputs": [],
   "source": []
  },
  {
   "cell_type": "markdown",
   "metadata": {},
   "source": [
    "# Challenge 2: Working with labeled images"
   ]
  },
  {
   "cell_type": "markdown",
   "metadata": {},
   "source": [
    "In the `data` folder you will find two files: `mnist_images.npy` and `mnist_labels.npy`. These two files contain a set of images and corresponding labels for **handwritten digits** found in a dataset called [MNIST](http://yann.lecun.com/exdb/mnist/)."
   ]
  },
  {
   "cell_type": "markdown",
   "metadata": {},
   "source": [
    "## Challenge 2.1"
   ]
  },
  {
   "cell_type": "markdown",
   "metadata": {},
   "source": [
    "Load the content of the `mnist_images.npy` and `mnist_labels.npy` into separate variables. `mnist_images.npy` contains a NumPy array representing a set of 100 **images** of hand written digits, where each image is 28 x 28 pixels in shape. `mnist_labels.npy` contains an array that holds the **labels** for all images - the digit that is written in the image."
   ]
  },
  {
   "cell_type": "code",
   "execution_count": null,
   "metadata": {},
   "outputs": [],
   "source": []
  },
  {
   "cell_type": "markdown",
   "metadata": {},
   "source": [
    "## Challenge 2.2"
   ]
  },
  {
   "cell_type": "markdown",
   "metadata": {},
   "source": [
    "Plot the first 16 MNIST images in 4 x 4 subplots. Be sure to use a suitable color map, and remove axis.\n",
    "\n",
    "**Hints** (you need not use the following to achieve the results but these are my recommendations):\n",
    "1. Use the object based way of creating Matplotlib figures - that is use `fig` and `ax` instead of just `plt`\n",
    "2. Use `fig, axs = plt.subplots(...)` to create a figure and appropriately arranged axes\n",
    "3. Use `ravel()` to flatten out an array when you want to visit the elements sequentially\n",
    "4. Use `zip` to pair up flattened list of `axs` and `images` to visit them in a pair"
   ]
  },
  {
   "cell_type": "code",
   "execution_count": null,
   "metadata": {},
   "outputs": [],
   "source": []
  },
  {
   "cell_type": "markdown",
   "metadata": {},
   "source": [
    "## Challenge 2.3"
   ]
  },
  {
   "cell_type": "markdown",
   "metadata": {},
   "source": [
    "Using the labels data, count the number of images for each digit. Plot this as bar plots, where each bar represents the number of images for a digit. Look up `plt.bar` docstring (i.e. run `plt.bar?`) to learn how to create bar plots."
   ]
  },
  {
   "cell_type": "code",
   "execution_count": null,
   "metadata": {},
   "outputs": [],
   "source": []
  },
  {
   "cell_type": "markdown",
   "metadata": {},
   "source": [
    "## Challenge 2.4 (Bonus)"
   ]
  },
  {
   "cell_type": "markdown",
   "metadata": {},
   "source": [
    "Show 3 example images from each of the 10 digits, and plot them. Ideally, you will plot them as 10 x 3 subplots (that is, 10 rows and 3 columns - each row is a digit and each column is an example).\n",
    "\n",
    "You may find the following pattern of plot axes iteration helpful:\n",
    "\n",
    "```python\n",
    "fig, axs = plt.subplots(5, 3)  # 5 rows, 3 columns\n",
    "\n",
    "for row, axs_row in enumerate(axs): # visiting each row\n",
    "    # here `row` is the row index\n",
    "    for col, ax in enumerate(axs_row): # now visit each column in a row\n",
    "        # here `col` is the column index\n",
    "        # ax is a single axes object at the row index `row` and column index `col`\n",
    "        \n",
    "        #...work with ax...\n",
    "```"
   ]
  },
  {
   "cell_type": "markdown",
   "metadata": {},
   "source": [
    "**Hints**:\n",
    "Think about how to get a NumPy array containing only images for a specific digit. Consider using boolean indexing. You can actually use fancy boolean index for each axis separately. That is:"
   ]
  },
  {
   "cell_type": "code",
   "execution_count": null,
   "metadata": {},
   "outputs": [],
   "source": [
    "data = np.array([[1, 2, 3, 4], [10, 20, 30, 40], [100, 200, 300, 400], [1000, 2000, 3000, 4000]])\n",
    "magnitude = np.array([1, 2, 0, 1])\n",
    "\n",
    "choice = magnitude == 1\n",
    "\n",
    "# fancy boolean indexing on axis=0 (rows) - can be thought of as selecting rows based on boolean indexing\n",
    "print('data[choice]=')\n",
    "print(data[choice])\n",
    "\n",
    "# same as above\n",
    "print('\\ndata[choice, :]=')\n",
    "print(data[choice, :])\n",
    "\n",
    "# fancy boolean indexing on axis=1 (columns) - selecting columns based on boolean indexing\n",
    "print('\\ndata[:, choice]=')\n",
    "print(data[:, choice])"
   ]
  },
  {
   "cell_type": "code",
   "execution_count": null,
   "metadata": {},
   "outputs": [],
   "source": [
    "# Your answer goes here\n"
   ]
  },
  {
   "cell_type": "markdown",
   "metadata": {},
   "source": [
    "# Challenge 3: Manipulating images with transparency"
   ]
  },
  {
   "cell_type": "markdown",
   "metadata": {},
   "source": [
    "**Directions**: Step through the following cells to learn about how alpha channel works in images. After that, attempt the challenges."
   ]
  },
  {
   "cell_type": "markdown",
   "metadata": {},
   "source": [
    "In the class you learned that a 3D array with 3 channels correpond to RGB colored images. It turns out that you can have yet another channel called **alpha** channel to specify the **transparency** of each pixel. Consider the following:"
   ]
  },
  {
   "cell_type": "code",
   "execution_count": null,
   "metadata": {},
   "outputs": [],
   "source": [
    "from scipy import misc"
   ]
  },
  {
   "cell_type": "code",
   "execution_count": null,
   "metadata": {},
   "outputs": [],
   "source": [
    "face = misc.face() # get face of racoon\n",
    "# make it into float image with values between 0 and 1\n",
    "face = face / 255.0"
   ]
  },
  {
   "cell_type": "code",
   "execution_count": null,
   "metadata": {},
   "outputs": [],
   "source": [
    "plt.imshow(face)\n",
    "plt.axis('off')"
   ]
  },
  {
   "cell_type": "markdown",
   "metadata": {},
   "source": [
    "Let's now load an image of checker board pattern:"
   ]
  },
  {
   "cell_type": "code",
   "execution_count": null,
   "metadata": {},
   "outputs": [],
   "source": [
    "import imageio\n",
    "chk = imageio.imread('data/checkerboard.jpg')"
   ]
  },
  {
   "cell_type": "code",
   "execution_count": null,
   "metadata": {},
   "outputs": [],
   "source": [
    "plt.imshow(chk)\n",
    "plt.axis('off')"
   ]
  },
  {
   "cell_type": "markdown",
   "metadata": {},
   "source": [
    "By default, plotting two images in a same figure causes the latter image to completely hide the earlier:"
   ]
  },
  {
   "cell_type": "code",
   "execution_count": null,
   "metadata": {},
   "outputs": [],
   "source": [
    "plt.imshow(chk)\n",
    "plt.imshow(face)\n",
    "plt.axis('off')"
   ]
  },
  {
   "cell_type": "markdown",
   "metadata": {},
   "source": [
    "However, you can control the **transparency** by adding the alpha achannel."
   ]
  },
  {
   "cell_type": "code",
   "execution_count": null,
   "metadata": {},
   "outputs": [],
   "source": [
    "h, w, c = face.shape\n",
    "alpha = np.ones((h, w, 1)) # create an image same shaped as face filled with ones as a\n",
    "face = np.concatenate([face, alpha], axis=2) # concatenate the alpha channel along the axis=2 (channel dimension)"
   ]
  },
  {
   "cell_type": "markdown",
   "metadata": {},
   "source": [
    "Now face has shape 4 in the channel dimension, and this channel is filled with 1s."
   ]
  },
  {
   "cell_type": "code",
   "execution_count": null,
   "metadata": {},
   "outputs": [],
   "source": [
    "face.shape"
   ]
  },
  {
   "cell_type": "markdown",
   "metadata": {},
   "source": [
    "At this point, the image is completely **opaque** and not transparent:"
   ]
  },
  {
   "cell_type": "code",
   "execution_count": null,
   "metadata": {},
   "outputs": [],
   "source": [
    "plt.imshow(chk)\n",
    "plt.imshow(face)\n",
    "plt.axis('off')"
   ]
  },
  {
   "cell_type": "markdown",
   "metadata": {},
   "source": [
    "But you can control the transparency by changing values in the alpha channel:"
   ]
  },
  {
   "cell_type": "code",
   "execution_count": null,
   "metadata": {},
   "outputs": [],
   "source": [
    "face[:, :, 3] = 0.8 # set alpha to 0.8 for all pixels"
   ]
  },
  {
   "cell_type": "code",
   "execution_count": null,
   "metadata": {},
   "outputs": [],
   "source": [
    "plt.imshow(chk)\n",
    "plt.imshow(face)\n",
    "plt.axis('off')"
   ]
  },
  {
   "cell_type": "markdown",
   "metadata": {},
   "source": [
    "Now the image of racoon (`face`) has **opacity** of 80%. In other words, it is 20% transparent."
   ]
  },
  {
   "cell_type": "markdown",
   "metadata": {},
   "source": [
    "You can set the transparency differntly for each pixel:"
   ]
  },
  {
   "cell_type": "code",
   "execution_count": null,
   "metadata": {},
   "outputs": [],
   "source": [
    "h, w, c = face.shape\n",
    "face[:, :, 3] = 1.0 # reset to opaque image\n",
    "face[:, w//2:, 3] = 0.9 # make right half 90% opacity"
   ]
  },
  {
   "cell_type": "code",
   "execution_count": null,
   "metadata": {},
   "outputs": [],
   "source": [
    "plt.imshow(chk)\n",
    "plt.imshow(face)\n",
    "plt.axis('off')"
   ]
  },
  {
   "cell_type": "markdown",
   "metadata": {},
   "source": [
    "Now that you have seen how opacity works, manipulate the alpha channel to achieve the following results:"
   ]
  },
  {
   "cell_type": "markdown",
   "metadata": {},
   "source": [
    "## Challenge 3.1"
   ]
  },
  {
   "cell_type": "markdown",
   "metadata": {},
   "source": [
    "100 pixel border that is at 60% opacity with opaque (non-transparent) center content:\n",
    "\n",
    "![challenge3.1](data/results3-1.png)"
   ]
  },
  {
   "cell_type": "code",
   "execution_count": null,
   "metadata": {},
   "outputs": [],
   "source": [
    "face[:, :, 3] = 1.0 # reset to opaque image\n",
    "\n",
    "# your code goes here"
   ]
  },
  {
   "cell_type": "code",
   "execution_count": null,
   "metadata": {},
   "outputs": [],
   "source": [
    "plt.imshow(chk)\n",
    "plt.imshow(face)\n",
    "plt.axis('off')"
   ]
  },
  {
   "cell_type": "markdown",
   "metadata": {},
   "source": [
    "## Challenge 3.2"
   ]
  },
  {
   "cell_type": "markdown",
   "metadata": {},
   "source": [
    "Pixel's opacity is 1.0 only where the value of the average RGB channel intensity is > 0.1.\n",
    "\n",
    "![challenge3.2](data/results3-2.png)"
   ]
  },
  {
   "cell_type": "code",
   "execution_count": null,
   "metadata": {},
   "outputs": [],
   "source": [
    "face[:, :, 3] = 1.0 # reset to opaque image\n",
    "\n",
    "# your code goes here"
   ]
  },
  {
   "cell_type": "code",
   "execution_count": null,
   "metadata": {},
   "outputs": [],
   "source": [
    "plt.imshow(chk)\n",
    "plt.imshow(face)\n",
    "plt.axis('off')"
   ]
  },
  {
   "cell_type": "markdown",
   "metadata": {},
   "source": [
    "## Challenge 3.3"
   ]
  },
  {
   "cell_type": "markdown",
   "metadata": {},
   "source": [
    "The opacity outside of circle of radius of 300 pixels is 0.6, and 1 inside of the circle.\n",
    "\n",
    "![challenge3.3](data/results3-3.png)"
   ]
  },
  {
   "cell_type": "code",
   "execution_count": null,
   "metadata": {},
   "outputs": [],
   "source": [
    "face[:, :, 3] = 1.0 # reset to opaque image\n",
    "\n",
    "# get a grid of y and x values\n",
    "h, w, c = face.shape\n",
    "xv = np.arange(w)[np.newaxis, :]\n",
    "yv = np.arange(h)[:, np.newaxis]\n",
    "cy, cx = h // 2, w // 2\n",
    "\n",
    "# Your code goes here:\n",
    "\n",
    "# Hint: do something to compute the distance from the center of the image at cy, cx\n",
    "# and then use that to manipulate opacity\n",
    "\n"
   ]
  },
  {
   "cell_type": "code",
   "execution_count": null,
   "metadata": {},
   "outputs": [],
   "source": [
    "plt.imshow(chk)\n",
    "plt.imshow(face)\n",
    "plt.axis('off')"
   ]
  },
  {
   "cell_type": "markdown",
   "metadata": {},
   "source": [
    "## Challenge 3.4 (Bonus)"
   ]
  },
  {
   "cell_type": "markdown",
   "metadata": {},
   "source": [
    "The opacity falls off with the distance from the center of the image following the following equation:\n",
    "\n",
    "$$\n",
    "o = 2^{-\\frac{d^2}{360000}}\n",
    "$$\n",
    "\n",
    "where $o$ is the opacity and $d$ is the distance from the center.\n",
    "\n",
    "![challenge3.4](data/results3-4.png)"
   ]
  },
  {
   "cell_type": "code",
   "execution_count": null,
   "metadata": {},
   "outputs": [],
   "source": [
    "face[:, :, 3] = 1.0 # reset to opaque image\n",
    "\n",
    "# get a grid of y and x values\n",
    "h, w, c = face.shape\n",
    "xv = np.arange(w)[np.newaxis, :]\n",
    "yv = np.arange(h)[:, np.newaxis]\n",
    "cy, cx = h // 2, w // 2\n",
    "\n",
    "# Your code goes here:\n",
    "\n",
    "# Hint: do something to compute the distance from the center of the image at cy, cx\n",
    "# and then use this to compute the opacity\n"
   ]
  },
  {
   "cell_type": "code",
   "execution_count": null,
   "metadata": {},
   "outputs": [],
   "source": [
    "plt.imshow(chk)\n",
    "plt.imshow(face)\n",
    "plt.axis('off')"
   ]
  }
 ],
 "metadata": {
  "kernelspec": {
   "display_name": "Python 3",
   "language": "python",
   "name": "python3"
  },
  "language_info": {
   "codemirror_mode": {
    "name": "ipython",
    "version": 3
   },
   "file_extension": ".py",
   "mimetype": "text/x-python",
   "name": "python",
   "nbconvert_exporter": "python",
   "pygments_lexer": "ipython3",
   "version": "3.6.5"
  }
 },
 "nbformat": 4,
 "nbformat_minor": 2
}
